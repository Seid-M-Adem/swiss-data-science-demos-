# Customer Transactions Analysis

This notebook demonstrates the analysis of customer transaction data, including data cleaning, exploratory data analysis (EDA), and visualizations. We also prepare functions for integration with Tableau via TabPy.

## 1. Loading and Exploring Data

```python
import pandas as pd

# Load the dataset
df = pd.read_csv('data/customer_transactions.csv')

# Display the first few rows of the dataset
df.head()

# Customer Transactions Analysis

This notebook demonstrates the analysis of customer transaction data, including data cleaning, exploratory data analysis (EDA), and visualizations. We also prepare functions for integration with Tableau via TabPy.

## 1. Loading and Exploring Data

```python
import pandas as pd

# Load the dataset
df = pd.read_csv('data/customer_transactions.csv')

# Display the first few rows of the dataset
df.head()

## 3. Exploratory Data Analysis (EDA)

We will now perform some exploratory data analysis to understand the transaction patterns.

### Average Transaction Amount per Customer

```python
import seaborn as sns
import matplotlib.pyplot as plt

# Calculate average transaction amount per customer
avg_transaction = df.groupby('customer_id')['transaction_amount'].mean().reset_index()
avg_transaction.rename(columns={'transaction_amount': 'avg_transaction_amount'}, inplace=True)

# Plot the distribution of average transaction amounts
plt.figure(figsize=(10, 6))
sns.histplot(avg_transaction['avg_transaction_amount'], bins=30, kde=True)
plt.title('Distribution of Average Transaction Amount per Customer')
plt.xlabel('Average Transaction Amount')
plt.ylabel('Frequency')
plt.show()

# Churn Risk Group Distribution

# Assign churn risk groups
df['churn_risk_group'] = pd.cut(df['churn_risk'], bins=[0, 3, 6, 10], labels=['Low', 'Medium', 'High'])

# Plot the distribution of churn risk groups
plt.figure(figsize=(8, 8))
sns.countplot(data=df, x='churn_risk_group', order=['Low', 'Medium', 'High'])
plt.title('Churn Risk Group Distribution')
plt.xlabel('Churn Risk Group')
plt.ylabel('Count')
plt.show()

# Save the plot as an image
plt.figure(figsize=(10, 6))
sns.histplot(avg_transaction['avg_transaction_amount'], bins=30, kde=True)
plt.title('Distribution of Average Transaction Amount per Customer')
plt.xlabel('Average Transaction Amount')
plt.ylabel('Frequency')
plt.savefig('data_analytics_bi/visualizations/dashboard_overview.png')
plt.close()

import plotly.express as px

# Create interactive pie chart for churn risk group distribution
fig = px.pie(df, names='churn_risk_group', title='Churn Risk Group Distribution')
fig.write_html('data_analytics_bi/visualizations/dashboard_interactive.html')

# 5. Integration with Tableau via TabPy
from tabpy.tabpy_tools.client import Client

# Connect to TabPy server
client = Client('http://localhost:9004/')

# Define function to calculate average transaction amount per customer
def calc_avg_transaction_amount(customer_id, transaction_amount):
    df = pd.DataFrame({'customer_id': customer_id, 'transaction_amount': transaction_amount})
    result = df.groupby('customer_id')['transaction_amount'].mean().tolist()
    return result

# Define function to assign churn risk group
def assign_churn_risk_group(churn_risk):
    risk_group = pd.cut(churn_risk, bins=[0, 3, 6, 10], labels=['Low', 'Medium', 'High'])
    return risk_group.tolist()

# Deploy functions to TabPy
client.deploy('CalcAvgTransactionAmount', calc_avg_transaction_amount,
              'Calculates average transaction amount per customer', override=True)

client.deploy('AssignChurnRiskGroup', assign_churn_risk_group,
              'Assigns churn risk group based on churn risk score', override=True)

print("Python functions deployed to TabPy. Ready to use in Tableau.")

